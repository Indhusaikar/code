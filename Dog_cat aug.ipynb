{
 "cells": [
  {
   "cell_type": "code",
   "execution_count": 1,
   "id": "5f0f8b9a-978a-400d-8aa3-0d73f4f949b7",
   "metadata": {},
   "outputs": [],
   "source": [
    "import os\n",
    "from tensorflow.keras.preprocessing.image import ImageDataGenerator"
   ]
  },
  {
   "cell_type": "code",
   "execution_count": 3,
   "id": "053740c7-c820-47cc-a7fe-aa5790042b62",
   "metadata": {},
   "outputs": [],
   "source": [
    "dataset_dir = 'G:/datasets/dog_cat/train'"
   ]
  },
  {
   "cell_type": "code",
   "execution_count": 5,
   "id": "b9a332ed-95d5-49e1-bfe3-37e06f6346a1",
   "metadata": {},
   "outputs": [],
   "source": [
    "augmented_dir = 'G:/datasets/dog_cat/augmented'"
   ]
  },
  {
   "cell_type": "code",
   "execution_count": 7,
   "id": "e44fcd9c-51ad-45dd-957a-c0e2e1604cc6",
   "metadata": {},
   "outputs": [],
   "source": [
    "# Create augmented_dir if it doesn't exist\n",
    "if not os.path.exists(augmented_dir):\n",
    "    os.makedirs(augmented_dir)"
   ]
  },
  {
   "cell_type": "code",
   "execution_count": 9,
   "id": "8753c991-3443-43b0-9abc-ec78b320ddbf",
   "metadata": {},
   "outputs": [],
   "source": [
    "# Define the ImageDataGenerator with augmentation options\n",
    "datagen = ImageDataGenerator(\n",
    "    rotation_range=40,\n",
    "    width_shift_range=0.2,\n",
    "    height_shift_range=0.2,\n",
    "    shear_range=0.2,\n",
    "    zoom_range=0.2,\n",
    "    horizontal_flip=True,\n",
    "    fill_mode='nearest'\n",
    ")"
   ]
  },
  {
   "cell_type": "code",
   "execution_count": 11,
   "id": "384d9f41-4a01-4c52-85c9-8b8c8334b9eb",
   "metadata": {},
   "outputs": [
    {
     "name": "stdout",
     "output_type": "stream",
     "text": [
      "Found 557 images belonging to 2 classes.\n"
     ]
    }
   ],
   "source": [
    "# Load images from the directory with batch size 1 to augment and save each image individually\n",
    "image_generator = datagen.flow_from_directory(\n",
    "    dataset_dir,                # Dataset directory\n",
    "    target_size=(150, 150),     # Resize images to a specific size (adjust as needed)\n",
    "    batch_size=1,               # Batch size of 1 to save each augmented image individually\n",
    "    class_mode=None,            # No labels needed for augmentation\n",
    "    shuffle=False,              # To avoid re-ordering the dataset\n",
    "    save_to_dir=augmented_dir,  # Directory to save augmented images\n",
    "    save_prefix='Aug_',         # Prefix for saved images\n",
    "    save_format='jpeg'          # Format of saved images\n",
    ")"
   ]
  },
  {
   "cell_type": "code",
   "execution_count": 13,
   "id": "ff287fbe-44ac-4a9c-9da5-7fe16125ffae",
   "metadata": {},
   "outputs": [],
   "source": [
    "# Generate and save augmented images\n",
    "num_augmented_images = 0  # Counter to keep track of the number of augmented images"
   ]
  },
  {
   "cell_type": "code",
   "execution_count": 15,
   "id": "decba51a-8836-4328-81c7-38e7dc2535dc",
   "metadata": {},
   "outputs": [],
   "source": [
    "# Set a limit for how many augmented images to generate (per image in the dataset)\n",
    "augmentations_per_image = 10"
   ]
  },
  {
   "cell_type": "code",
   "execution_count": null,
   "id": "1705e7a7-a47c-40d0-93c1-4611e250e064",
   "metadata": {},
   "outputs": [],
   "source": [
    "# Loop through the batches of augmented images\n",
    "for i, batch in enumerate(image_generator):\n",
    "    num_augmented_images += 1\n",
    "    if num_augmented_images >= augmentations_per_image * image_generator.samples:\n",
    "        break  # Stop after generating the desired number of augmented images"
   ]
  },
  {
   "cell_type": "code",
   "execution_count": null,
   "id": "cbb5bdcb-5e02-434a-abee-b15dfa12cf3c",
   "metadata": {},
   "outputs": [],
   "source": [
    "print(f\"Total augmented images generated: {num_augmented_images}\")"
   ]
  }
 ],
 "metadata": {
  "kernelspec": {
   "display_name": "Python 3 (ipykernel)",
   "language": "python",
   "name": "python3"
  },
  "language_info": {
   "codemirror_mode": {
    "name": "ipython",
    "version": 3
   },
   "file_extension": ".py",
   "mimetype": "text/x-python",
   "name": "python",
   "nbconvert_exporter": "python",
   "pygments_lexer": "ipython3",
   "version": "3.12.4"
  }
 },
 "nbformat": 4,
 "nbformat_minor": 5
}
