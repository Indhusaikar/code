{
 "cells": [
  {
   "cell_type": "code",
   "execution_count": 3,
   "id": "310a1262-6ae7-4670-8b84-0ffa808555ee",
   "metadata": {},
   "outputs": [],
   "source": [
    "import os\n",
    "import numpy as np\n",
    "import matplotlib.pyplot as plt\n",
    "from PIL import Image\n",
    "import tensorflow as tf\n",
    "from tensorflow.keras.preprocessing import image\n",
    "from tensorflow.keras.preprocessing.image import load_img, img_to_array\n",
    "from sklearn.model_selection import train_test_split\n"
   ]
  },
  {
   "cell_type": "code",
   "execution_count": 4,
   "id": "8a397da4-866f-407f-a53e-aca2a2a2b34f",
   "metadata": {},
   "outputs": [],
   "source": [
    "# Directory with 'ripe' and 'unripe' folders\n",
    "images = 'D:/indhu/Datasets/Riped and Unriped Tomato Dataset/Images'\n",
    "riped_images = []\n",
    "unriped_images = []"
   ]
  },
  {
   "cell_type": "code",
   "execution_count": 5,
   "id": "8106451b-117f-4a4c-8b81-1b0aa953edee",
   "metadata": {},
   "outputs": [
    {
     "name": "stdout",
     "output_type": "stream",
     "text": [
      "Ripe images: 97\n",
      "Unripe images: 80\n"
     ]
    }
   ],
   "source": [
    "# List the files in the directory and categorize them\n",
    "for file_name in os.listdir(images):\n",
    "    file_path = os.path.join(images, file_name)\n",
    "    if file_name.endswith('.jpeg'):\n",
    "        if 'unriped' in file_name:\n",
    "            unriped_images.append(file_path)\n",
    "        else:\n",
    "            riped_images.append(file_path)\n",
    "\n",
    "print(f\"Ripe images: {len(riped_images)}\")\n",
    "print(f\"Unripe images: {len(unriped_images)}\")\n"
   ]
  },
  {
   "cell_type": "code",
   "execution_count": 6,
   "id": "15c42d95-0e59-434c-8eeb-61013805a225",
   "metadata": {},
   "outputs": [],
   "source": [
    "# Define image dimensions\n",
    "img_height = 150\n",
    "img_width = 150"
   ]
  },
  {
   "cell_type": "code",
   "execution_count": 7,
   "id": "23c98994-188d-4a55-9e87-d5bf3dad94b4",
   "metadata": {},
   "outputs": [],
   "source": [
    "# Preprocess individual images\n",
    "def preprocess_image(image_path, img_height, img_width):\n",
    "    img = load_img(image_path, target_size=(img_height, img_width))\n",
    "    img = img_to_array(img)\n",
    "    img = img / 255.0  # Normalize to [0, 1]\n",
    "    return img\n",
    "\n",
    "# Load and preprocess the images\n",
    "def load_and_preprocess_images(image_paths, img_height, img_width):\n",
    "    images = [preprocess_image(img_path, img_height, img_width) for img_path in image_paths]\n",
    "    return np.array(images)\n",
    "\n",
    "# Process the images\n",
    "riped_images_processed = load_and_preprocess_images(riped_images, img_height, img_width)\n",
    "unriped_images_processed = load_and_preprocess_images(unriped_images, img_height, img_width)"
   ]
  },
  {
   "cell_type": "code",
   "execution_count": 9,
   "id": "70b174ad-2a52-4420-a7c5-6d296a81c2e9",
   "metadata": {},
   "outputs": [],
   "source": [
    "# Create labels for the datasets (1 for ripe, 0 for unripe)\n",
    "riped_labels = np.ones(len(riped_images))\n",
    "unriped_labels = np.zeros(len(unriped_images))\n",
    "# Combine the datasets\n",
    "X = np.concatenate((riped_images_processed, unriped_images_processed), axis=0)\n",
    "y = np.concatenate((riped_labels, unriped_labels), axis=0)"
   ]
  },
  {
   "cell_type": "code",
   "execution_count": 10,
   "id": "96be96a1-87c5-4428-b96e-1933c0ed2669",
   "metadata": {},
   "outputs": [],
   "source": [
    "# Split the dataset into training and validation sets\n",
    "X_train, X_val, y_train, y_val = train_test_split(X, y, test_size=0.2, random_state=42)"
   ]
  },
  {
   "cell_type": "code",
   "execution_count": 11,
   "id": "fff4366a-1bd0-4924-b60f-eeb4d7cbc238",
   "metadata": {},
   "outputs": [],
   "source": [
    "# Create TensorFlow datasets\n",
    "train_dataset = tf.data.Dataset.from_tensor_slices((X_train, y_train)).shuffle(buffer_size=1000).batch(32)\n",
    "val_dataset = tf.data.Dataset.from_tensor_slices((X_val, y_val)).batch(32)\n"
   ]
  },
  {
   "cell_type": "code",
   "execution_count": 13,
   "id": "4f5d59dc-f9dd-410b-8941-da317054cb62",
   "metadata": {},
   "outputs": [],
   "source": [
    "# Define the model\n",
    "model = tf.keras.models.Sequential([\n",
    "    tf.keras.layers.Conv2D(32, (3, 3), activation='relu', input_shape=(img_height, img_width, 3)),\n",
    "    tf.keras.layers.MaxPooling2D((2, 2)),\n",
    "    tf.keras.layers.Conv2D(64, (3, 3), activation='relu'),\n",
    "    tf.keras.layers.MaxPooling2D((2, 2)),\n",
    "    tf.keras.layers.Flatten(),\n",
    "    tf.keras.layers.Dense(128, activation='relu'),\n",
    "    tf.keras.layers.Dropout(0.5),\n",
    "    tf.keras.layers.Dense(1, activation='sigmoid')\n",
    "])"
   ]
  },
  {
   "cell_type": "code",
   "execution_count": 14,
   "id": "06fb27b0-86ce-4a18-ace6-f4cfe728608f",
   "metadata": {},
   "outputs": [],
   "source": [
    "# Compile the model\n",
    "model.compile(optimizer='adam',\n",
    "              loss='binary_crossentropy',\n",
    "              metrics=['accuracy'])"
   ]
  },
  {
   "cell_type": "code",
   "execution_count": 15,
   "id": "883f656d-2f23-4a44-86b4-3c5087486d21",
   "metadata": {},
   "outputs": [
    {
     "name": "stdout",
     "output_type": "stream",
     "text": [
      "Epoch 1/10\n",
      "\u001b[1m5/5\u001b[0m \u001b[32m━━━━━━━━━━━━━━━━━━━━\u001b[0m\u001b[37m\u001b[0m \u001b[1m2s\u001b[0m 146ms/step - accuracy: 0.5506 - loss: 2.2768 - val_accuracy: 0.5556 - val_loss: 0.7310\n",
      "Epoch 2/10\n",
      "\u001b[1m5/5\u001b[0m \u001b[32m━━━━━━━━━━━━━━━━━━━━\u001b[0m\u001b[37m\u001b[0m \u001b[1m1s\u001b[0m 124ms/step - accuracy: 0.6529 - loss: 0.8386 - val_accuracy: 0.8889 - val_loss: 0.2704\n",
      "Epoch 3/10\n",
      "\u001b[1m5/5\u001b[0m \u001b[32m━━━━━━━━━━━━━━━━━━━━\u001b[0m\u001b[37m\u001b[0m \u001b[1m1s\u001b[0m 122ms/step - accuracy: 0.9104 - loss: 0.2673 - val_accuracy: 0.9444 - val_loss: 0.1534\n",
      "Epoch 4/10\n",
      "\u001b[1m5/5\u001b[0m \u001b[32m━━━━━━━━━━━━━━━━━━━━\u001b[0m\u001b[37m\u001b[0m \u001b[1m1s\u001b[0m 122ms/step - accuracy: 0.9284 - loss: 0.1918 - val_accuracy: 0.9722 - val_loss: 0.1662\n",
      "Epoch 5/10\n",
      "\u001b[1m5/5\u001b[0m \u001b[32m━━━━━━━━━━━━━━━━━━━━\u001b[0m\u001b[37m\u001b[0m \u001b[1m1s\u001b[0m 125ms/step - accuracy: 0.9652 - loss: 0.1290 - val_accuracy: 0.9722 - val_loss: 0.1601\n",
      "Epoch 6/10\n",
      "\u001b[1m5/5\u001b[0m \u001b[32m━━━━━━━━━━━━━━━━━━━━\u001b[0m\u001b[37m\u001b[0m \u001b[1m1s\u001b[0m 119ms/step - accuracy: 0.9217 - loss: 0.2537 - val_accuracy: 0.9722 - val_loss: 0.1217\n",
      "Epoch 7/10\n",
      "\u001b[1m5/5\u001b[0m \u001b[32m━━━━━━━━━━━━━━━━━━━━\u001b[0m\u001b[37m\u001b[0m \u001b[1m1s\u001b[0m 120ms/step - accuracy: 0.9122 - loss: 0.1675 - val_accuracy: 0.9722 - val_loss: 0.1009\n",
      "Epoch 8/10\n",
      "\u001b[1m5/5\u001b[0m \u001b[32m━━━━━━━━━━━━━━━━━━━━\u001b[0m\u001b[37m\u001b[0m \u001b[1m1s\u001b[0m 122ms/step - accuracy: 0.9632 - loss: 0.1106 - val_accuracy: 0.9722 - val_loss: 0.0887\n",
      "Epoch 9/10\n",
      "\u001b[1m5/5\u001b[0m \u001b[32m━━━━━━━━━━━━━━━━━━━━\u001b[0m\u001b[37m\u001b[0m \u001b[1m1s\u001b[0m 117ms/step - accuracy: 0.9595 - loss: 0.0865 - val_accuracy: 0.9722 - val_loss: 0.0797\n",
      "Epoch 10/10\n",
      "\u001b[1m5/5\u001b[0m \u001b[32m━━━━━━━━━━━━━━━━━━━━\u001b[0m\u001b[37m\u001b[0m \u001b[1m1s\u001b[0m 119ms/step - accuracy: 0.9803 - loss: 0.0700 - val_accuracy: 0.9722 - val_loss: 0.0796\n"
     ]
    }
   ],
   "source": [
    "# Train the model\n",
    "history = model.fit(train_dataset, validation_data=val_dataset, epochs=10)"
   ]
  },
  {
   "cell_type": "code",
   "execution_count": 16,
   "id": "a922d942-75e6-47fe-a347-a72d3bbfff3d",
   "metadata": {},
   "outputs": [
    {
     "name": "stdout",
     "output_type": "stream",
     "text": [
      "\u001b[1m2/2\u001b[0m \u001b[32m━━━━━━━━━━━━━━━━━━━━\u001b[0m\u001b[37m\u001b[0m \u001b[1m0s\u001b[0m 12ms/step - accuracy: 0.9711 - loss: 0.0825\n",
      "Validation Loss: 0.9722222089767456\n",
      "Validation Accuracy: 0.07958901673555374\n"
     ]
    }
   ],
   "source": [
    "# Evaluate the model\n",
    "val_loss, val_accuracy = model.evaluate(val_dataset, return_dict=True).values()\n",
    "print(f'Validation Loss: {val_loss}')\n",
    "print(f'Validation Accuracy: {val_accuracy}')"
   ]
  },
  {
   "cell_type": "code",
   "execution_count": 17,
   "id": "77dee210-9495-41dc-9a6e-cec9e21aa172",
   "metadata": {},
   "outputs": [],
   "source": [
    "# Function for predicting the class of an image\n",
    "def predict_image_class(image_path, model, img_height, img_width):\n",
    "    test_image = load_img(image_path, target_size=(img_height, img_width))\n",
    "    test_image = img_to_array(test_image)\n",
    "    test_image = np.expand_dims(test_image, axis=0)\n",
    "    test_image = test_image / 255.0  # Normalize\n",
    "    result = model.predict(test_image)\n",
    "    \n",
    "    if result[0][0] >= 0.5:\n",
    "        return 'Ripe Tomato'\n",
    "    else:\n",
    "        return 'Unripe Tomato'"
   ]
  },
  {
   "cell_type": "code",
   "execution_count": 30,
   "id": "f98971a1-2487-4c9f-b76c-64b2b68eb77f",
   "metadata": {},
   "outputs": [
    {
     "name": "stdout",
     "output_type": "stream",
     "text": [
      "\u001b[1m1/1\u001b[0m \u001b[32m━━━━━━━━━━━━━━━━━━━━\u001b[0m\u001b[37m\u001b[0m \u001b[1m0s\u001b[0m 19ms/step\n",
      "Ripe Tomato\n"
     ]
    }
   ],
   "source": [
    "# Test prediction on a new image\n",
    "test_image_path = r'D:/indhu/Datasets/Riped and Unriped Tomato Dataset/Images/riped_tomato_11.jpeg'\n",
    "prediction = predict_image_class(test_image_path, model, img_height, img_width)\n",
    "print(prediction)"
   ]
  },
  {
   "cell_type": "code",
   "execution_count": null,
   "id": "873115ac-0606-43bc-83fd-0030c2b37744",
   "metadata": {},
   "outputs": [],
   "source": []
  }
 ],
 "metadata": {
  "kernelspec": {
   "display_name": "Python 3 (ipykernel)",
   "language": "python",
   "name": "python3"
  },
  "language_info": {
   "codemirror_mode": {
    "name": "ipython",
    "version": 3
   },
   "file_extension": ".py",
   "mimetype": "text/x-python",
   "name": "python",
   "nbconvert_exporter": "python",
   "pygments_lexer": "ipython3",
   "version": "3.12.4"
  }
 },
 "nbformat": 4,
 "nbformat_minor": 5
}
